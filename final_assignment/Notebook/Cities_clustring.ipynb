{
 "cells": [
  {
   "cell_type": "markdown",
   "metadata": {},
   "source": [
    "## Importing needed libraries"
   ]
  },
  {
   "cell_type": "code",
   "execution_count": null,
   "metadata": {},
   "outputs": [],
   "source": [
    "import pandas as pd\n",
    "import requests\n",
    "from bs4 import BeautifulSoup\n",
    "from geopy.geocoders import Nominatim\n",
    "import time\n",
    "import random\n",
    "import os\n",
    "from selenium import webdriver\n",
    "import folium\n",
    "from pandas.io.json import json_normalize\n",
    "from sklearn.cluster import KMeans\n",
    "import matplotlib.pyplot as plt\n",
    "import numpy as np\n",
    "import matplotlib.cm as cm\n",
    "import matplotlib.colors as colors"
   ]
  },
  {
   "cell_type": "markdown",
   "metadata": {},
   "source": [
    "## defining nedded functions"
   ]
  },
  {
   "cell_type": "code",
   "execution_count": null,
   "metadata": {},
   "outputs": [],
   "source": [
    "def area(row):\n",
    "    \"\"\"this function to calculate the are of the boundingbox provided by geopy geolocater\"\"\"\n",
    "    lats = [float(x) for x in row[\"lats\"]]\n",
    "    lons = [float(x) for x in row[\"lons\"]]\n",
    "    return (max(lats) - min(lats)) * (max(lons) - min(lons))\n",
    "\n",
    "\n",
    "\n",
    "def createmap(df,fn  ,centre_lat = center_lat,center_lon = center_lon,  zoom_start = 1.5):\n",
    "    \"\"\"this function is to generate location mapand save it as html file and png picture\"\"\"\n",
    "    k = df.cluster.unique().shape[0]\n",
    "    clusters_map = folium.Map(location=[center_lat, center_lon], zoom_start = 1.5)\n",
    "    df = df.replace({x:y for x, y in zip(df.cluster.unique(),range(len(df.cluster.unique())))})\n",
    "    # set color scheme for the clusters\n",
    "    x = np.arange(16)\n",
    "    ys = [i + x + (i*x)**2 for i in range(k)]\n",
    "    colors_array = cm.rainbow(np.linspace(0, 1, len(ys)))\n",
    "    rainbow = [colors.rgb2hex(i) for i in colors_array]\n",
    "    \n",
    "    # add markers to the map\n",
    "    markers_colors = []\n",
    "    for lat, lon, poi, cluster in zip(df['City Latitude'], df['City Longitude'], df['City'], df['cluster']):\n",
    "        txt = str(poi) + ' Cluster ' + str(cluster)\n",
    "        label = folium.Popup(str(poi) + ' Cluster ' + str(cluster), parse_html=True)\n",
    "        folium.CircleMarker(\n",
    "            [lat, lon],\n",
    "            radius = 3,\n",
    "            popup = folium.Popup(txt, parse_html=True),\n",
    "            tooltip = txt,\n",
    "            color = rainbow[int(cluster)-1],\n",
    "            fill = True,\n",
    "            fill_color = rainbow[int(cluster)-1],\n",
    "            fill_opacity = 0.7).add_to(clusters_map)\n",
    "\n",
    "    \n",
    "       \n",
    "    tmpurl='{path}/{mapfile}.html'.format(path=os.getcwd(),mapfile=fn)\n",
    "    clusters_map.save(tmpurl)\n",
    "\n",
    "    browser = webdriver.Chrome()\n",
    "    browser.get(\"file://\"+ tmpurl)\n",
    "    #Give the map tiles some time to load\n",
    "    time.sleep(2)\n",
    "    browser.save_screenshot(f'{fn}.png')\n",
    "    browser.quit()\n",
    "    print(f\"file saved as {fn}.png\")\n",
    "    return None\n",
    "\n",
    "\n",
    "def getNearbyVenues(names, latitudes, longitudes, limit=50, radius=50000):\n",
    "    \"\"\"This function returns a data frame off the venues around a cordinate point from Foursquare API\"\"\"\n",
    "    \n",
    "    venues_list = []\n",
    "    for name, lat, lng in zip(names, latitudes, longitudes):\n",
    "            \n",
    "        # create the API request URL\n",
    "        url = 'https://api.foursquare.com/v2/venues/explore?&client_id={}&client_secret={}&v={}&ll={},{}&limit={}&radius={}'.format(\n",
    "            client_id, client_secret, version, lat, lng, limit, radius)\n",
    "        \n",
    "        # make the GET request\n",
    "        r = requests.get(url)\n",
    "        while not r.ok:\n",
    "            r = requests.get(url)\n",
    "            \n",
    "        results = r.json()[\"response\"]['groups'][0]['items']\n",
    "        \n",
    "        # return only relevant information for each nearby venue\n",
    "        venues_list.append([(name, lat, lng, v['venue']['id'], v['venue']['name'], v['venue']['location']['lat'],\n",
    "                             v['venue']['location']['lng'], v['venue']['categories'][0]['name']) for v in results])\n",
    "\n",
    "    nearby_venues = pd.DataFrame([item for venue_list in venues_list for item in venue_list])\n",
    "    nearby_venues.columns = ['City', 'City Latitude', 'City Longitude',\n",
    "                             'Venue', 'Venue Latitude', 'Venue Longitude', 'Venue Category']\n",
    "    \n",
    "    return(nearby_venues)"
   ]
  },
  {
   "cell_type": "markdown",
   "metadata": {},
   "source": [
    "## collect most famous cities around the world and adding the Saudis cities"
   ]
  },
  {
   "cell_type": "code",
   "execution_count": null,
   "metadata": {},
   "outputs": [],
   "source": [
    "cities =[]\n",
    "for page in range (1,8):\n",
    "    r = requests.get(f\"https://www.listchallenges.com/250-most-famous-cities/list/{page}\")\n",
    "    soup = BeautifulSoup(r.content, 'html.parser')\n",
    "    cities += [x.contents for x in soup.find_all(\"div\",{\"class\":\"item-name\"} )]\n",
    "cities = [x[0].replace(\"\\r\",\"\").replace(\"\\t\",\"\").replace(\"\\n\",\"\") for x in cities]\n",
    "cities += [\"Jeddah, Saudi Arabia\", \"Dammam , Saudi Arabia\"]"
   ]
  },
  {
   "cell_type": "markdown",
   "metadata": {},
   "source": [
    "## Collect cities cordinates from geopy"
   ]
  },
  {
   "cell_type": "code",
   "execution_count": null,
   "metadata": {
    "scrolled": true
   },
   "outputs": [],
   "source": [
    "cities_dict = {}\n",
    "for city in cities:\n",
    "    if not city in [x.split(\"_\")[0] for x in cities_dict.keys()]:\n",
    "        geolocator = Nominatim(user_agent = \"ABC\")\n",
    "        location = geolocator.geocode(city, addressdetails = True,exactly_one=False)\n",
    "        for i,l in enumerate(location):\n",
    "            cities_dict[city+\"_\"+str(i)]= l.raw"
   ]
  },
  {
   "cell_type": "markdown",
   "metadata": {},
   "source": [
    "## Prepare the dataframe and keep the record with grater area for each city boundingbox"
   ]
  },
  {
   "cell_type": "code",
   "execution_count": null,
   "metadata": {},
   "outputs": [],
   "source": [
    "df = pd.DataFrame(cities_dict).T\n",
    "df[\"city\"] = df[\"index\"].str.split(\"_\").apply(lambda x:x[0])\n",
    "df[\"city_index\"] = df[\"index\"].str.split(\"_\").apply(lambda x:x[1])\n",
    "\n",
    "df[\"lats\"] = df[\"boundingbox\"].apply(lambda x : x[:2])\n",
    "df[\"lons\"] = df[\"boundingbox\"].apply(lambda x : x[2:])\n",
    "\n",
    "df[\"area\"] = 0\n",
    "df.reset_index(inplace = True , drop = True)\n",
    "for i, row in df.iterrows():\n",
    "    df.loc[i,\"area\"] = area(row)\n",
    "\n",
    "df = df.sort_values(\"area\",ascending=False).drop_duplicates(subset = \"city\", keep='first' )\n",
    "df.reset_index(inplace=True, drop= True)"
   ]
  },
  {
   "cell_type": "markdown",
   "metadata": {},
   "source": [
    "## Create initial map for all cities"
   ]
  },
  {
   "cell_type": "code",
   "execution_count": null,
   "metadata": {},
   "outputs": [],
   "source": [
    "df['lat'] = df['lat'].astype(\"float\")\n",
    "df['lon'] = df['lon'].astype(\"float\")\n",
    "center_lat = df['lat'].mean()\n",
    "center_lon = df['lon'].mean()\n",
    "\n",
    "# create a world map\n",
    "world_map  = folium.Map(location = [center_lat, center_lon], zoom_start = 2)\n",
    "\n",
    "# add markers from dataframe to map\n",
    "for i, row in df.iterrows():\n",
    "    folium.CircleMarker(\n",
    "        [row['lat'], row['lon']],\n",
    "        radius  = 2,\n",
    "        color   = '#ff9800',\n",
    "        popup   = folium.Popup(row['city'], parse_html=True),\n",
    "        tooltip = row['city'],\n",
    "    ).add_to(world_map)\n",
    "\n",
    "fn =\"test.html\"    \n",
    "tmpurl='{path}/{mapfile}'.format(path=os.getcwd(),mapfile=fn)\n",
    "world_map.save(tmpurl)\n"
   ]
  },
  {
   "cell_type": "markdown",
   "metadata": {},
   "source": [
    "## Get venues from Foursquare API"
   ]
  },
  {
   "cell_type": "code",
   "execution_count": null,
   "metadata": {},
   "outputs": [],
   "source": [
    "resp = getNearbyVenues(df.city , df.lat,df.lon)"
   ]
  },
  {
   "cell_type": "markdown",
   "metadata": {},
   "source": [
    "## One hot encoding Venues' Categories "
   ]
  },
  {
   "cell_type": "code",
   "execution_count": null,
   "metadata": {},
   "outputs": [],
   "source": [
    "result = pd.concat([resp, pd.get_dummies(resp[\"Venue Category\"])], axis=1, join='inner')"
   ]
  },
  {
   "cell_type": "markdown",
   "metadata": {},
   "source": [
    "## preepare clustring dataframe"
   ]
  },
  {
   "cell_type": "code",
   "execution_count": null,
   "metadata": {},
   "outputs": [],
   "source": [
    "clus_df = result.drop(columns=\"City Latitude\tCity Longitude\tVenue\tVenue Latitude\tVenue Longitude\tVenue Category\".split(\"\\t\"))\n",
    "clus_df.columns = [\"City_name\"]+list(clus_df.columns)[1:]\n",
    "clus_df = clus_df.groupby([\"City_name\"]).mean()"
   ]
  },
  {
   "cell_type": "markdown",
   "metadata": {},
   "source": [
    "## Split Saudi cities from other"
   ]
  },
  {
   "cell_type": "code",
   "execution_count": null,
   "metadata": {},
   "outputs": [],
   "source": [
    "saudi_cities = clus_df[clus_df.index.str.find(\"Saudi\")>0]\n",
    "ww_cities = clus_df[~(clus_df.index.str.find(\"Saudi\")>0)]"
   ]
  },
  {
   "cell_type": "markdown",
   "metadata": {},
   "source": [
    "## Caluclate best K"
   ]
  },
  {
   "cell_type": "code",
   "execution_count": null,
   "metadata": {},
   "outputs": [],
   "source": [
    "from yellowbrick.cluster import KElbowVisualizer\n",
    "model = KMeans(algorithm=\"full\",n_jobs=-1)\n",
    "visualizer = KElbowVisualizer(model, k=(1,30))\n",
    "plt.figure(figsize=(18,8))\n",
    "visualizer.fit(ww_cities)        # Fit the data to the visualizer\n",
    "visualizer.show();                # Finalize and render the figure"
   ]
  },
  {
   "cell_type": "markdown",
   "metadata": {},
   "source": [
    "best k is 16"
   ]
  },
  {
   "cell_type": "markdown",
   "metadata": {},
   "source": [
    "## Cluster the cities into 16 clusters"
   ]
  },
  {
   "cell_type": "code",
   "execution_count": null,
   "metadata": {},
   "outputs": [],
   "source": [
    "model = KMeans( n_clusters=16,algorithm=\"full\", n_jobs=-1)\n",
    "model.fit(ww_cities)"
   ]
  },
  {
   "cell_type": "markdown",
   "metadata": {},
   "source": [
    "## adding the labels into the Dataframes"
   ]
  },
  {
   "cell_type": "code",
   "execution_count": null,
   "metadata": {},
   "outputs": [],
   "source": [
    "ww_cities[\"cluster\"] = model.labels_\n",
    "saudi_cities[\"cluster\"] = model.predict(saudi_cities)"
   ]
  },
  {
   "cell_type": "markdown",
   "metadata": {},
   "source": [
    "## prepare the final Dataframe for visulization"
   ]
  },
  {
   "cell_type": "code",
   "execution_count": null,
   "metadata": {},
   "outputs": [],
   "source": [
    "\n",
    "final_df = (resp[\"City\tCity Latitude\tCity Longitude\".split(\"\\t\")]\n",
    " .drop_duplicates().set_index(\"City\")\n",
    " .join(ww_cities[\"cluster\"])\n",
    " .join(saudi_cities[\"cluster\"],rsuffix='_s'))\n",
    "\n",
    "final_df[\"cluster\"] = np.where(final_df[\"cluster\"].isna(),final_df[\"cluster_s\"],final_df[\"cluster\"])\n",
    "final_df.drop(columns = \"cluster_s\" ,inplace =True )\n",
    "final_df.reset_index(inplace = True)\n",
    "final_df = final_df.astype({\"City Latitude\":\"float\",\"City Longitude\" :\"float\"})\n",
    "\n",
    "\n",
    "jed_cluster = final_df[final_df[\"City\"]==\"Jeddah, Saudi Arabia\"][\"cluster\"].values[0]\n",
    "dmm_cluster = final_df[final_df[\"City\"]==\"Dammam , Saudi Arabia\"][\"cluster\"].values[0]\n",
    "riy_cluster = final_df[final_df[\"City\"]==\"Riyadh, Saudi Arabia\"][\"cluster\"].values[0]\n",
    "\n",
    "t1 , t2 , t3 = final_df.cluster.min(), int(np.median(final_df.cluster.unique())) , final_df.cluster.max()\n",
    "\n",
    "final_df[\"cluster\"].replace({jed_cluster:t1,t1:jed_cluster,\n",
    "                            dmm_cluster:t2,t2:dmm_cluster,\n",
    "                            riy_cluster:t3,t3:riy_cluster}, inplace =True)"
   ]
  },
  {
   "cell_type": "markdown",
   "metadata": {},
   "source": [
    "## Visualize number of cities in each cluster"
   ]
  },
  {
   "cell_type": "code",
   "execution_count": null,
   "metadata": {},
   "outputs": [],
   "source": [
    "plt.figure(figsize=(18,8))\n",
    "plt.xticks(list(range(16)))\n",
    "plt.title(\"Cities Count Per Cluster\",fontsize = 30, color =\"red\",y=1, x = 0.84)\n",
    "plt.bar(final_df.cluster.value_counts().index,final_df.cluster.value_counts());\n",
    "plt.savefig(\"Cities_Count_Per_Cluster.png\",format = \"png\")"
   ]
  },
  {
   "cell_type": "markdown",
   "metadata": {},
   "source": [
    "## Create results maps"
   ]
  },
  {
   "cell_type": "code",
   "execution_count": null,
   "metadata": {},
   "outputs": [],
   "source": [
    "createmap(final_df,\"clusters_map\") #Overall dataset visulization\n",
    "createmap(final_df[final_df[\"cluster\"] == 15],\"riyadh_cluster_map\") #Riyadh cluster dataset visulization\n",
    "createmap(final_df[final_df[\"cluster\"] == 7],\"jed_dmm_cluster_map\") #Jeddah and Dammam cluster dataset visulization"
   ]
  }
 ],
 "metadata": {
  "kernelspec": {
   "display_name": "Python 3",
   "language": "python",
   "name": "python3"
  },
  "language_info": {
   "codemirror_mode": {
    "name": "ipython",
    "version": 3
   },
   "file_extension": ".py",
   "mimetype": "text/x-python",
   "name": "python",
   "nbconvert_exporter": "python",
   "pygments_lexer": "ipython3",
   "version": "3.7.4"
  }
 },
 "nbformat": 4,
 "nbformat_minor": 4
}
